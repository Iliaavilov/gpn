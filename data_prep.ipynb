{
 "cells": [
  {
   "cell_type": "markdown",
   "metadata": {},
   "source": [
    "# Загрузка библиотек"
   ]
  },
  {
   "cell_type": "code",
   "execution_count": 1,
   "metadata": {},
   "outputs": [],
   "source": [
    "import pandas as pd\n",
    "import numpy as np"
   ]
  },
  {
   "cell_type": "markdown",
   "metadata": {},
   "source": [
    "# Определение констант"
   ]
  },
  {
   "cell_type": "code",
   "execution_count": 2,
   "metadata": {},
   "outputs": [],
   "source": [
    "data_path = 'data/'"
   ]
  },
  {
   "cell_type": "markdown",
   "metadata": {},
   "source": [
    "# Загрузка данных"
   ]
  },
  {
   "cell_type": "code",
   "execution_count": 3,
   "metadata": {},
   "outputs": [],
   "source": [
    "sales = pd.read_parquet(data_path + 'sales.parquet')\n",
    "shops = pd.read_parquet(data_path + 'shops.parquet')"
   ]
  },
  {
   "cell_type": "markdown",
   "metadata": {},
   "source": [
    "# Трансформация данных"
   ]
  },
  {
   "cell_type": "code",
   "execution_count": 4,
   "metadata": {},
   "outputs": [
    {
     "data": {
      "text/html": [
       "<div>\n",
       "<style scoped>\n",
       "    .dataframe tbody tr th:only-of-type {\n",
       "        vertical-align: middle;\n",
       "    }\n",
       "\n",
       "    .dataframe tbody tr th {\n",
       "        vertical-align: top;\n",
       "    }\n",
       "\n",
       "    .dataframe thead th {\n",
       "        text-align: right;\n",
       "    }\n",
       "</style>\n",
       "<table border=\"1\" class=\"dataframe\">\n",
       "  <thead>\n",
       "    <tr style=\"text-align: right;\">\n",
       "      <th></th>\n",
       "      <th>date</th>\n",
       "      <th>shop_id</th>\n",
       "      <th>owner</th>\n",
       "      <th>number_of_counters</th>\n",
       "      <th>goods_type</th>\n",
       "      <th>total_items_sold</th>\n",
       "    </tr>\n",
       "  </thead>\n",
       "  <tbody>\n",
       "    <tr>\n",
       "      <th>0</th>\n",
       "      <td>2146-01-01</td>\n",
       "      <td>0</td>\n",
       "      <td>Рейдеры</td>\n",
       "      <td>4</td>\n",
       "      <td>Съедобный хлам</td>\n",
       "      <td>6.0</td>\n",
       "    </tr>\n",
       "    <tr>\n",
       "      <th>1</th>\n",
       "      <td>2146-01-01</td>\n",
       "      <td>0</td>\n",
       "      <td>Рейдеры</td>\n",
       "      <td>4</td>\n",
       "      <td>Хлам</td>\n",
       "      <td>26.0</td>\n",
       "    </tr>\n",
       "    <tr>\n",
       "      <th>2</th>\n",
       "      <td>2146-01-01</td>\n",
       "      <td>0</td>\n",
       "      <td>Рейдеры</td>\n",
       "      <td>4</td>\n",
       "      <td>Бензак</td>\n",
       "      <td>10537.0</td>\n",
       "    </tr>\n",
       "    <tr>\n",
       "      <th>3</th>\n",
       "      <td>2146-01-01</td>\n",
       "      <td>1</td>\n",
       "      <td>Рейдеры</td>\n",
       "      <td>5</td>\n",
       "      <td>Съедобный хлам</td>\n",
       "      <td>17.0</td>\n",
       "    </tr>\n",
       "    <tr>\n",
       "      <th>4</th>\n",
       "      <td>2146-01-01</td>\n",
       "      <td>1</td>\n",
       "      <td>Рейдеры</td>\n",
       "      <td>5</td>\n",
       "      <td>Хлам</td>\n",
       "      <td>9.0</td>\n",
       "    </tr>\n",
       "  </tbody>\n",
       "</table>\n",
       "</div>"
      ],
      "text/plain": [
       "        date  shop_id    owner  number_of_counters      goods_type  \\\n",
       "0 2146-01-01        0  Рейдеры                   4  Съедобный хлам   \n",
       "1 2146-01-01        0  Рейдеры                   4            Хлам   \n",
       "2 2146-01-01        0  Рейдеры                   4          Бензак   \n",
       "3 2146-01-01        1  Рейдеры                   5  Съедобный хлам   \n",
       "4 2146-01-01        1  Рейдеры                   5            Хлам   \n",
       "\n",
       "   total_items_sold  \n",
       "0               6.0  \n",
       "1              26.0  \n",
       "2           10537.0  \n",
       "3              17.0  \n",
       "4               9.0  "
      ]
     },
     "execution_count": 4,
     "metadata": {},
     "output_type": "execute_result"
    }
   ],
   "source": [
    "sales.head()"
   ]
  },
  {
   "cell_type": "markdown",
   "metadata": {},
   "source": [
    "Данные в длинном формате (1 наблюдение - продажи 1 товара в 1 магазине за 1 день)"
   ]
  },
  {
   "cell_type": "code",
   "execution_count": 5,
   "metadata": {},
   "outputs": [
    {
     "data": {
      "text/plain": [
       "date        shop_id\n",
       "2146-01-01  0          1\n",
       "2147-05-02  264        1\n",
       "            265        1\n",
       "            266        1\n",
       "            267        1\n",
       "                      ..\n",
       "2146-09-01  194        1\n",
       "            195        1\n",
       "            196        1\n",
       "            198        1\n",
       "2147-12-31  844        1\n",
       "Length: 615736, dtype: int64"
      ]
     },
     "execution_count": 5,
     "metadata": {},
     "output_type": "execute_result"
    }
   ],
   "source": [
    "sales.groupby(['date', 'shop_id']).apply(lambda x: len(x['number_of_counters'].unique())).sort_values()"
   ]
  },
  {
   "cell_type": "markdown",
   "metadata": {},
   "source": [
    "В кадом магазине в 1 день 1 количество прилавков для всех товаров, поэтому может перейти к широкому формату"
   ]
  },
  {
   "cell_type": "code",
   "execution_count": 6,
   "metadata": {},
   "outputs": [],
   "source": [
    "# Приводим данные от длинного формата к широкому\n",
    "sales_pivoted = pd.pivot_table(sales[['date', 'shop_id', 'goods_type', 'total_items_sold']],\n",
    "                               index = ['date', 'shop_id'],\n",
    "                               columns = 'goods_type')"
   ]
  },
  {
   "cell_type": "code",
   "execution_count": 7,
   "metadata": {},
   "outputs": [],
   "source": [
    "# Исправляем название колонок и индексы\n",
    "sales_pivoted.columns = sales_pivoted.columns.get_level_values(1)\n",
    "sales_pivoted = sales_pivoted.reset_index()\n",
    "sales_pivoted.columns.name = ''"
   ]
  },
  {
   "cell_type": "code",
   "execution_count": 8,
   "metadata": {},
   "outputs": [
    {
     "data": {
      "text/html": [
       "<div>\n",
       "<style scoped>\n",
       "    .dataframe tbody tr th:only-of-type {\n",
       "        vertical-align: middle;\n",
       "    }\n",
       "\n",
       "    .dataframe tbody tr th {\n",
       "        vertical-align: top;\n",
       "    }\n",
       "\n",
       "    .dataframe thead th {\n",
       "        text-align: right;\n",
       "    }\n",
       "</style>\n",
       "<table border=\"1\" class=\"dataframe\">\n",
       "  <thead>\n",
       "    <tr style=\"text-align: right;\">\n",
       "      <th></th>\n",
       "      <th>date</th>\n",
       "      <th>shop_id</th>\n",
       "      <th>Бензак</th>\n",
       "      <th>Броня и одежда</th>\n",
       "      <th>Жидкости для тачки</th>\n",
       "      <th>Медпрепараты и еда</th>\n",
       "      <th>Модификации тачки</th>\n",
       "      <th>Оружие</th>\n",
       "      <th>Патроны</th>\n",
       "      <th>Солярка</th>\n",
       "      <th>Съедобный хлам</th>\n",
       "      <th>Хлам</th>\n",
       "      <th>Ядер-Кола</th>\n",
       "    </tr>\n",
       "  </thead>\n",
       "  <tbody>\n",
       "    <tr>\n",
       "      <th>0</th>\n",
       "      <td>2146-01-01</td>\n",
       "      <td>0</td>\n",
       "      <td>10537.0</td>\n",
       "      <td>NaN</td>\n",
       "      <td>NaN</td>\n",
       "      <td>NaN</td>\n",
       "      <td>NaN</td>\n",
       "      <td>NaN</td>\n",
       "      <td>NaN</td>\n",
       "      <td>NaN</td>\n",
       "      <td>6.0</td>\n",
       "      <td>26.0</td>\n",
       "      <td>NaN</td>\n",
       "    </tr>\n",
       "    <tr>\n",
       "      <th>1</th>\n",
       "      <td>2146-01-01</td>\n",
       "      <td>1</td>\n",
       "      <td>5510.0</td>\n",
       "      <td>2.0</td>\n",
       "      <td>NaN</td>\n",
       "      <td>NaN</td>\n",
       "      <td>NaN</td>\n",
       "      <td>NaN</td>\n",
       "      <td>NaN</td>\n",
       "      <td>238.0</td>\n",
       "      <td>17.0</td>\n",
       "      <td>9.0</td>\n",
       "      <td>NaN</td>\n",
       "    </tr>\n",
       "    <tr>\n",
       "      <th>2</th>\n",
       "      <td>2146-01-01</td>\n",
       "      <td>2</td>\n",
       "      <td>5893.0</td>\n",
       "      <td>16.0</td>\n",
       "      <td>NaN</td>\n",
       "      <td>NaN</td>\n",
       "      <td>150.0</td>\n",
       "      <td>17.0</td>\n",
       "      <td>671.0</td>\n",
       "      <td>629.0</td>\n",
       "      <td>115.0</td>\n",
       "      <td>121.0</td>\n",
       "      <td>37.0</td>\n",
       "    </tr>\n",
       "    <tr>\n",
       "      <th>3</th>\n",
       "      <td>2146-01-01</td>\n",
       "      <td>3</td>\n",
       "      <td>14627.0</td>\n",
       "      <td>2.0</td>\n",
       "      <td>NaN</td>\n",
       "      <td>NaN</td>\n",
       "      <td>NaN</td>\n",
       "      <td>NaN</td>\n",
       "      <td>NaN</td>\n",
       "      <td>822.0</td>\n",
       "      <td>20.0</td>\n",
       "      <td>63.0</td>\n",
       "      <td>NaN</td>\n",
       "    </tr>\n",
       "    <tr>\n",
       "      <th>4</th>\n",
       "      <td>2146-01-01</td>\n",
       "      <td>4</td>\n",
       "      <td>15525.0</td>\n",
       "      <td>13.0</td>\n",
       "      <td>21.0</td>\n",
       "      <td>NaN</td>\n",
       "      <td>15.0</td>\n",
       "      <td>NaN</td>\n",
       "      <td>449.0</td>\n",
       "      <td>1011.0</td>\n",
       "      <td>281.0</td>\n",
       "      <td>68.0</td>\n",
       "      <td>146.0</td>\n",
       "    </tr>\n",
       "  </tbody>\n",
       "</table>\n",
       "</div>"
      ],
      "text/plain": [
       "        date  shop_id   Бензак  Броня и одежда  Жидкости для тачки  \\\n",
       "0 2146-01-01        0  10537.0             NaN                 NaN   \n",
       "1 2146-01-01        1   5510.0             2.0                 NaN   \n",
       "2 2146-01-01        2   5893.0            16.0                 NaN   \n",
       "3 2146-01-01        3  14627.0             2.0                 NaN   \n",
       "4 2146-01-01        4  15525.0            13.0                21.0   \n",
       "\n",
       "   Медпрепараты и еда  Модификации тачки  Оружие  Патроны  Солярка  \\\n",
       "0                 NaN                NaN     NaN      NaN      NaN   \n",
       "1                 NaN                NaN     NaN      NaN    238.0   \n",
       "2                 NaN              150.0    17.0    671.0    629.0   \n",
       "3                 NaN                NaN     NaN      NaN    822.0   \n",
       "4                 NaN               15.0     NaN    449.0   1011.0   \n",
       "\n",
       "   Съедобный хлам   Хлам  Ядер-Кола  \n",
       "0             6.0   26.0        NaN  \n",
       "1            17.0    9.0        NaN  \n",
       "2           115.0  121.0       37.0  \n",
       "3            20.0   63.0        NaN  \n",
       "4           281.0   68.0      146.0  "
      ]
     },
     "execution_count": 8,
     "metadata": {},
     "output_type": "execute_result"
    }
   ],
   "source": [
    "sales_pivoted.head()"
   ]
  },
  {
   "cell_type": "code",
   "execution_count": 9,
   "metadata": {},
   "outputs": [],
   "source": [
    "# Добавляем информацию о количестве прилавков\n",
    "sales = sales[['date', 'shop_id', 'number_of_counters']].drop_duplicates(['date', 'shop_id']).reset_index(drop = True)\n",
    "sales_pivoted = pd.merge(sales_pivoted, sales, on = ['date', 'shop_id'])"
   ]
  },
  {
   "cell_type": "code",
   "execution_count": 10,
   "metadata": {},
   "outputs": [
    {
     "data": {
      "text/html": [
       "<div>\n",
       "<style scoped>\n",
       "    .dataframe tbody tr th:only-of-type {\n",
       "        vertical-align: middle;\n",
       "    }\n",
       "\n",
       "    .dataframe tbody tr th {\n",
       "        vertical-align: top;\n",
       "    }\n",
       "\n",
       "    .dataframe thead th {\n",
       "        text-align: right;\n",
       "    }\n",
       "</style>\n",
       "<table border=\"1\" class=\"dataframe\">\n",
       "  <thead>\n",
       "    <tr style=\"text-align: right;\">\n",
       "      <th></th>\n",
       "      <th>date</th>\n",
       "      <th>shop_id</th>\n",
       "      <th>Бензак</th>\n",
       "      <th>Броня и одежда</th>\n",
       "      <th>Жидкости для тачки</th>\n",
       "      <th>Медпрепараты и еда</th>\n",
       "      <th>Модификации тачки</th>\n",
       "      <th>Оружие</th>\n",
       "      <th>Патроны</th>\n",
       "      <th>Солярка</th>\n",
       "      <th>Съедобный хлам</th>\n",
       "      <th>Хлам</th>\n",
       "      <th>Ядер-Кола</th>\n",
       "      <th>number_of_counters</th>\n",
       "    </tr>\n",
       "  </thead>\n",
       "  <tbody>\n",
       "    <tr>\n",
       "      <th>0</th>\n",
       "      <td>2146-01-01</td>\n",
       "      <td>0</td>\n",
       "      <td>10537.0</td>\n",
       "      <td>NaN</td>\n",
       "      <td>NaN</td>\n",
       "      <td>NaN</td>\n",
       "      <td>NaN</td>\n",
       "      <td>NaN</td>\n",
       "      <td>NaN</td>\n",
       "      <td>NaN</td>\n",
       "      <td>6.0</td>\n",
       "      <td>26.0</td>\n",
       "      <td>NaN</td>\n",
       "      <td>4</td>\n",
       "    </tr>\n",
       "    <tr>\n",
       "      <th>1</th>\n",
       "      <td>2146-01-01</td>\n",
       "      <td>1</td>\n",
       "      <td>5510.0</td>\n",
       "      <td>2.0</td>\n",
       "      <td>NaN</td>\n",
       "      <td>NaN</td>\n",
       "      <td>NaN</td>\n",
       "      <td>NaN</td>\n",
       "      <td>NaN</td>\n",
       "      <td>238.0</td>\n",
       "      <td>17.0</td>\n",
       "      <td>9.0</td>\n",
       "      <td>NaN</td>\n",
       "      <td>5</td>\n",
       "    </tr>\n",
       "    <tr>\n",
       "      <th>2</th>\n",
       "      <td>2146-01-01</td>\n",
       "      <td>2</td>\n",
       "      <td>5893.0</td>\n",
       "      <td>16.0</td>\n",
       "      <td>NaN</td>\n",
       "      <td>NaN</td>\n",
       "      <td>150.0</td>\n",
       "      <td>17.0</td>\n",
       "      <td>671.0</td>\n",
       "      <td>629.0</td>\n",
       "      <td>115.0</td>\n",
       "      <td>121.0</td>\n",
       "      <td>37.0</td>\n",
       "      <td>4</td>\n",
       "    </tr>\n",
       "    <tr>\n",
       "      <th>3</th>\n",
       "      <td>2146-01-01</td>\n",
       "      <td>3</td>\n",
       "      <td>14627.0</td>\n",
       "      <td>2.0</td>\n",
       "      <td>NaN</td>\n",
       "      <td>NaN</td>\n",
       "      <td>NaN</td>\n",
       "      <td>NaN</td>\n",
       "      <td>NaN</td>\n",
       "      <td>822.0</td>\n",
       "      <td>20.0</td>\n",
       "      <td>63.0</td>\n",
       "      <td>NaN</td>\n",
       "      <td>4</td>\n",
       "    </tr>\n",
       "    <tr>\n",
       "      <th>4</th>\n",
       "      <td>2146-01-01</td>\n",
       "      <td>4</td>\n",
       "      <td>15525.0</td>\n",
       "      <td>13.0</td>\n",
       "      <td>21.0</td>\n",
       "      <td>NaN</td>\n",
       "      <td>15.0</td>\n",
       "      <td>NaN</td>\n",
       "      <td>449.0</td>\n",
       "      <td>1011.0</td>\n",
       "      <td>281.0</td>\n",
       "      <td>68.0</td>\n",
       "      <td>146.0</td>\n",
       "      <td>10</td>\n",
       "    </tr>\n",
       "  </tbody>\n",
       "</table>\n",
       "</div>"
      ],
      "text/plain": [
       "        date  shop_id   Бензак  Броня и одежда  Жидкости для тачки  \\\n",
       "0 2146-01-01        0  10537.0             NaN                 NaN   \n",
       "1 2146-01-01        1   5510.0             2.0                 NaN   \n",
       "2 2146-01-01        2   5893.0            16.0                 NaN   \n",
       "3 2146-01-01        3  14627.0             2.0                 NaN   \n",
       "4 2146-01-01        4  15525.0            13.0                21.0   \n",
       "\n",
       "   Медпрепараты и еда  Модификации тачки  Оружие  Патроны  Солярка  \\\n",
       "0                 NaN                NaN     NaN      NaN      NaN   \n",
       "1                 NaN                NaN     NaN      NaN    238.0   \n",
       "2                 NaN              150.0    17.0    671.0    629.0   \n",
       "3                 NaN                NaN     NaN      NaN    822.0   \n",
       "4                 NaN               15.0     NaN    449.0   1011.0   \n",
       "\n",
       "   Съедобный хлам   Хлам  Ядер-Кола  number_of_counters  \n",
       "0             6.0   26.0        NaN                   4  \n",
       "1            17.0    9.0        NaN                   5  \n",
       "2           115.0  121.0       37.0                   4  \n",
       "3            20.0   63.0        NaN                   4  \n",
       "4           281.0   68.0      146.0                  10  "
      ]
     },
     "execution_count": 10,
     "metadata": {},
     "output_type": "execute_result"
    }
   ],
   "source": [
    "sales_pivoted.head()"
   ]
  },
  {
   "cell_type": "markdown",
   "metadata": {},
   "source": [
    "Проверим промежутки продаж в магазинах"
   ]
  },
  {
   "cell_type": "code",
   "execution_count": 11,
   "metadata": {},
   "outputs": [
    {
     "data": {
      "text/plain": [
       "shop_id\n",
       "0     2146-01-01\n",
       "556   2146-01-01\n",
       "557   2146-01-01\n",
       "558   2146-01-01\n",
       "559   2146-01-01\n",
       "         ...    \n",
       "285   2146-01-01\n",
       "286   2146-01-01\n",
       "287   2146-01-01\n",
       "263   2146-01-01\n",
       "844   2146-01-01\n",
       "Length: 845, dtype: datetime64[ns]"
      ]
     },
     "execution_count": 11,
     "metadata": {},
     "output_type": "execute_result"
    }
   ],
   "source": [
    "sales_pivoted.groupby('shop_id').apply(lambda x: x['date'].min()).sort_values()"
   ]
  },
  {
   "cell_type": "code",
   "execution_count": 12,
   "metadata": {},
   "outputs": [
    {
     "data": {
      "text/plain": [
       "shop_id\n",
       "178   2147-11-30\n",
       "181   2147-12-02\n",
       "182   2147-12-19\n",
       "180   2147-12-24\n",
       "179   2147-12-24\n",
       "         ...    \n",
       "289   2147-12-31\n",
       "290   2147-12-31\n",
       "291   2147-12-31\n",
       "267   2147-12-31\n",
       "844   2147-12-31\n",
       "Length: 845, dtype: datetime64[ns]"
      ]
     },
     "execution_count": 12,
     "metadata": {},
     "output_type": "execute_result"
    }
   ],
   "source": [
    "sales_pivoted.groupby('shop_id').apply(lambda x: x['date'].max()).sort_values()"
   ]
  },
  {
   "cell_type": "markdown",
   "metadata": {},
   "source": [
    "Данные о продажах в разных магазинах доступны за разные промежутки. Ограничим все одним промежутком"
   ]
  },
  {
   "cell_type": "code",
   "execution_count": 13,
   "metadata": {},
   "outputs": [],
   "source": [
    "# Ограничиваем данные о продажах этим промежутком\n",
    "# В этот промежуток есть информация о продажах всех товаров\n",
    "sales_pivoted = sales_pivoted[(sales_pivoted['date']>=pd.to_datetime('2146-01-01 00:00:00'))\\\n",
    "                              & (sales_pivoted['date']<=pd.to_datetime('2147-11-30 00:00:00'))]"
   ]
  },
  {
   "cell_type": "markdown",
   "metadata": {},
   "source": [
    "Проверим, что в даннных о продажах нет пропущенных дней"
   ]
  },
  {
   "cell_type": "code",
   "execution_count": 14,
   "metadata": {},
   "outputs": [],
   "source": [
    "# Отсортируем по дате\n",
    "sales_pivoted = sales_pivoted.sort_values(['shop_id', 'date']).reset_index(drop = True)"
   ]
  },
  {
   "cell_type": "code",
   "execution_count": 15,
   "metadata": {
    "scrolled": true
   },
   "outputs": [],
   "source": [
    "# Предыдущий день исходя из календаря.\n",
    "sales_pivoted['date_previous_real'] = sales_pivoted.groupby('shop_id')['date'].apply(lambda x: x - pd.Timedelta('1 day'))\n",
    "# Предыдущий день, исходя из наблюдений\n",
    "sales_pivoted['date_previous_fact'] = sales_pivoted.groupby('shop_id')['date'].apply(lambda x: x.shift(1))"
   ]
  },
  {
   "cell_type": "code",
   "execution_count": 16,
   "metadata": {
    "scrolled": true
   },
   "outputs": [],
   "source": [
    "sales_pivoted_dates = sales_pivoted.dropna(subset = ['date_previous_fact'])[['date', \n",
    "                                                                             'shop_id', \n",
    "                                                                             'date_previous_fact', \n",
    "                                                                             'date_previous_real']]"
   ]
  },
  {
   "cell_type": "code",
   "execution_count": 17,
   "metadata": {},
   "outputs": [
    {
     "data": {
      "text/html": [
       "<div>\n",
       "<style scoped>\n",
       "    .dataframe tbody tr th:only-of-type {\n",
       "        vertical-align: middle;\n",
       "    }\n",
       "\n",
       "    .dataframe tbody tr th {\n",
       "        vertical-align: top;\n",
       "    }\n",
       "\n",
       "    .dataframe thead th {\n",
       "        text-align: right;\n",
       "    }\n",
       "</style>\n",
       "<table border=\"1\" class=\"dataframe\">\n",
       "  <thead>\n",
       "    <tr style=\"text-align: right;\">\n",
       "      <th></th>\n",
       "      <th>date</th>\n",
       "      <th>shop_id</th>\n",
       "      <th>date_previous_fact</th>\n",
       "      <th>date_previous_real</th>\n",
       "    </tr>\n",
       "  </thead>\n",
       "  <tbody>\n",
       "    <tr>\n",
       "      <th>1344</th>\n",
       "      <td>2147-10-10</td>\n",
       "      <td>1</td>\n",
       "      <td>2147-10-07</td>\n",
       "      <td>2147-10-09</td>\n",
       "    </tr>\n",
       "    <tr>\n",
       "      <th>1908</th>\n",
       "      <td>2147-05-30</td>\n",
       "      <td>2</td>\n",
       "      <td>2147-05-27</td>\n",
       "      <td>2147-05-29</td>\n",
       "    </tr>\n",
       "    <tr>\n",
       "      <th>2339</th>\n",
       "      <td>2146-09-05</td>\n",
       "      <td>3</td>\n",
       "      <td>2146-09-03</td>\n",
       "      <td>2146-09-04</td>\n",
       "    </tr>\n",
       "    <tr>\n",
       "      <th>3310</th>\n",
       "      <td>2147-06-06</td>\n",
       "      <td>4</td>\n",
       "      <td>2147-06-03</td>\n",
       "      <td>2147-06-05</td>\n",
       "    </tr>\n",
       "    <tr>\n",
       "      <th>5799</th>\n",
       "      <td>2146-08-05</td>\n",
       "      <td>8</td>\n",
       "      <td>2146-08-02</td>\n",
       "      <td>2146-08-04</td>\n",
       "    </tr>\n",
       "    <tr>\n",
       "      <th>...</th>\n",
       "      <td>...</td>\n",
       "      <td>...</td>\n",
       "      <td>...</td>\n",
       "      <td>...</td>\n",
       "    </tr>\n",
       "    <tr>\n",
       "      <th>578653</th>\n",
       "      <td>2146-06-08</td>\n",
       "      <td>829</td>\n",
       "      <td>2146-06-06</td>\n",
       "      <td>2146-06-07</td>\n",
       "    </tr>\n",
       "    <tr>\n",
       "      <th>578847</th>\n",
       "      <td>2146-12-21</td>\n",
       "      <td>829</td>\n",
       "      <td>2146-12-18</td>\n",
       "      <td>2146-12-20</td>\n",
       "    </tr>\n",
       "    <tr>\n",
       "      <th>579140</th>\n",
       "      <td>2147-10-17</td>\n",
       "      <td>829</td>\n",
       "      <td>2147-10-09</td>\n",
       "      <td>2147-10-16</td>\n",
       "    </tr>\n",
       "    <tr>\n",
       "      <th>579155</th>\n",
       "      <td>2147-11-06</td>\n",
       "      <td>829</td>\n",
       "      <td>2147-10-31</td>\n",
       "      <td>2147-11-05</td>\n",
       "    </tr>\n",
       "    <tr>\n",
       "      <th>589495</th>\n",
       "      <td>2147-06-15</td>\n",
       "      <td>844</td>\n",
       "      <td>2147-06-13</td>\n",
       "      <td>2147-06-14</td>\n",
       "    </tr>\n",
       "  </tbody>\n",
       "</table>\n",
       "<p>329 rows × 4 columns</p>\n",
       "</div>"
      ],
      "text/plain": [
       "             date  shop_id date_previous_fact date_previous_real\n",
       "1344   2147-10-10        1         2147-10-07         2147-10-09\n",
       "1908   2147-05-30        2         2147-05-27         2147-05-29\n",
       "2339   2146-09-05        3         2146-09-03         2146-09-04\n",
       "3310   2147-06-06        4         2147-06-03         2147-06-05\n",
       "5799   2146-08-05        8         2146-08-02         2146-08-04\n",
       "...           ...      ...                ...                ...\n",
       "578653 2146-06-08      829         2146-06-06         2146-06-07\n",
       "578847 2146-12-21      829         2146-12-18         2146-12-20\n",
       "579140 2147-10-17      829         2147-10-09         2147-10-16\n",
       "579155 2147-11-06      829         2147-10-31         2147-11-05\n",
       "589495 2147-06-15      844         2147-06-13         2147-06-14\n",
       "\n",
       "[329 rows x 4 columns]"
      ]
     },
     "execution_count": 17,
     "metadata": {},
     "output_type": "execute_result"
    }
   ],
   "source": [
    "sales_pivoted_dates[sales_pivoted_dates['date_previous_fact'] != sales_pivoted_dates['date_previous_real']]"
   ]
  },
  {
   "cell_type": "markdown",
   "metadata": {},
   "source": [
    "Для некоторых магазинов есть пропущенные даты. Заполним их для упрощения анализа"
   ]
  },
  {
   "cell_type": "code",
   "execution_count": 18,
   "metadata": {},
   "outputs": [],
   "source": [
    "sales_pivoted = sales_pivoted.drop(['date_previous_fact', 'date_previous_real'], axis = 'columns')"
   ]
  },
  {
   "cell_type": "code",
   "execution_count": 19,
   "metadata": {},
   "outputs": [],
   "source": [
    "def filling_gaps(x):\n",
    "\n",
    "    ''' Возвращает датасет с заполненными датами '''\n",
    "\n",
    "    dates = list(pd.date_range('2146-01-01 00:00:00', '2147-11-30 00:00:00'))\n",
    "    shop_id = x['shop_id'].unique()[0]\n",
    "    dates = pd.DataFrame({'date': dates, 'shop_id': shop_id})\n",
    "    x = pd.merge(x, dates, on = ['date', 'shop_id'], how = 'right')\n",
    "\n",
    "    return x"
   ]
  },
  {
   "cell_type": "code",
   "execution_count": 20,
   "metadata": {},
   "outputs": [],
   "source": [
    "sales_pivoted = sales_pivoted.groupby('shop_id').apply(filling_gaps).reset_index(drop = True)\n",
    "sales_pivoted = sales_pivoted.sort_values(['shop_id', 'date'])"
   ]
  },
  {
   "cell_type": "code",
   "execution_count": 21,
   "metadata": {},
   "outputs": [
    {
     "data": {
      "text/html": [
       "<div>\n",
       "<style scoped>\n",
       "    .dataframe tbody tr th:only-of-type {\n",
       "        vertical-align: middle;\n",
       "    }\n",
       "\n",
       "    .dataframe tbody tr th {\n",
       "        vertical-align: top;\n",
       "    }\n",
       "\n",
       "    .dataframe thead th {\n",
       "        text-align: right;\n",
       "    }\n",
       "</style>\n",
       "<table border=\"1\" class=\"dataframe\">\n",
       "  <thead>\n",
       "    <tr style=\"text-align: right;\">\n",
       "      <th></th>\n",
       "      <th>date</th>\n",
       "      <th>shop_id</th>\n",
       "      <th>Бензак</th>\n",
       "      <th>Броня и одежда</th>\n",
       "      <th>Жидкости для тачки</th>\n",
       "      <th>Медпрепараты и еда</th>\n",
       "      <th>Модификации тачки</th>\n",
       "      <th>Оружие</th>\n",
       "      <th>Патроны</th>\n",
       "      <th>Солярка</th>\n",
       "      <th>Съедобный хлам</th>\n",
       "      <th>Хлам</th>\n",
       "      <th>Ядер-Кола</th>\n",
       "      <th>number_of_counters</th>\n",
       "    </tr>\n",
       "  </thead>\n",
       "  <tbody>\n",
       "    <tr>\n",
       "      <th>0</th>\n",
       "      <td>2146-01-01</td>\n",
       "      <td>0</td>\n",
       "      <td>10537.0</td>\n",
       "      <td>NaN</td>\n",
       "      <td>NaN</td>\n",
       "      <td>NaN</td>\n",
       "      <td>NaN</td>\n",
       "      <td>NaN</td>\n",
       "      <td>NaN</td>\n",
       "      <td>NaN</td>\n",
       "      <td>6.0</td>\n",
       "      <td>26.0</td>\n",
       "      <td>NaN</td>\n",
       "      <td>4.0</td>\n",
       "    </tr>\n",
       "    <tr>\n",
       "      <th>1</th>\n",
       "      <td>2146-01-02</td>\n",
       "      <td>0</td>\n",
       "      <td>14107.0</td>\n",
       "      <td>NaN</td>\n",
       "      <td>NaN</td>\n",
       "      <td>NaN</td>\n",
       "      <td>NaN</td>\n",
       "      <td>NaN</td>\n",
       "      <td>NaN</td>\n",
       "      <td>NaN</td>\n",
       "      <td>3.0</td>\n",
       "      <td>5.0</td>\n",
       "      <td>NaN</td>\n",
       "      <td>4.0</td>\n",
       "    </tr>\n",
       "    <tr>\n",
       "      <th>2</th>\n",
       "      <td>2146-01-03</td>\n",
       "      <td>0</td>\n",
       "      <td>16092.0</td>\n",
       "      <td>2.0</td>\n",
       "      <td>NaN</td>\n",
       "      <td>NaN</td>\n",
       "      <td>NaN</td>\n",
       "      <td>NaN</td>\n",
       "      <td>NaN</td>\n",
       "      <td>NaN</td>\n",
       "      <td>18.0</td>\n",
       "      <td>17.0</td>\n",
       "      <td>NaN</td>\n",
       "      <td>4.0</td>\n",
       "    </tr>\n",
       "    <tr>\n",
       "      <th>3</th>\n",
       "      <td>2146-01-04</td>\n",
       "      <td>0</td>\n",
       "      <td>18050.0</td>\n",
       "      <td>2.0</td>\n",
       "      <td>NaN</td>\n",
       "      <td>NaN</td>\n",
       "      <td>NaN</td>\n",
       "      <td>NaN</td>\n",
       "      <td>NaN</td>\n",
       "      <td>NaN</td>\n",
       "      <td>30.0</td>\n",
       "      <td>70.0</td>\n",
       "      <td>NaN</td>\n",
       "      <td>4.0</td>\n",
       "    </tr>\n",
       "    <tr>\n",
       "      <th>4</th>\n",
       "      <td>2146-01-05</td>\n",
       "      <td>0</td>\n",
       "      <td>18456.0</td>\n",
       "      <td>NaN</td>\n",
       "      <td>NaN</td>\n",
       "      <td>NaN</td>\n",
       "      <td>NaN</td>\n",
       "      <td>NaN</td>\n",
       "      <td>NaN</td>\n",
       "      <td>NaN</td>\n",
       "      <td>18.0</td>\n",
       "      <td>6.0</td>\n",
       "      <td>NaN</td>\n",
       "      <td>4.0</td>\n",
       "    </tr>\n",
       "  </tbody>\n",
       "</table>\n",
       "</div>"
      ],
      "text/plain": [
       "        date  shop_id   Бензак  Броня и одежда  Жидкости для тачки  \\\n",
       "0 2146-01-01        0  10537.0             NaN                 NaN   \n",
       "1 2146-01-02        0  14107.0             NaN                 NaN   \n",
       "2 2146-01-03        0  16092.0             2.0                 NaN   \n",
       "3 2146-01-04        0  18050.0             2.0                 NaN   \n",
       "4 2146-01-05        0  18456.0             NaN                 NaN   \n",
       "\n",
       "   Медпрепараты и еда  Модификации тачки  Оружие  Патроны  Солярка  \\\n",
       "0                 NaN                NaN     NaN      NaN      NaN   \n",
       "1                 NaN                NaN     NaN      NaN      NaN   \n",
       "2                 NaN                NaN     NaN      NaN      NaN   \n",
       "3                 NaN                NaN     NaN      NaN      NaN   \n",
       "4                 NaN                NaN     NaN      NaN      NaN   \n",
       "\n",
       "   Съедобный хлам  Хлам  Ядер-Кола  number_of_counters  \n",
       "0             6.0  26.0        NaN                 4.0  \n",
       "1             3.0   5.0        NaN                 4.0  \n",
       "2            18.0  17.0        NaN                 4.0  \n",
       "3            30.0  70.0        NaN                 4.0  \n",
       "4            18.0   6.0        NaN                 4.0  "
      ]
     },
     "execution_count": 21,
     "metadata": {},
     "output_type": "execute_result"
    }
   ],
   "source": [
    "sales_pivoted.head()"
   ]
  }
 ],
 "metadata": {
  "kernelspec": {
   "display_name": "Python 3",
   "language": "python",
   "name": "python3"
  },
  "language_info": {
   "codemirror_mode": {
    "name": "ipython",
    "version": 3
   },
   "file_extension": ".py",
   "mimetype": "text/x-python",
   "name": "python",
   "nbconvert_exporter": "python",
   "pygments_lexer": "ipython3",
   "version": "3.8.3"
  },
  "latex_envs": {
   "LaTeX_envs_menu_present": true,
   "autoclose": false,
   "autocomplete": true,
   "bibliofile": "biblio.bib",
   "cite_by": "apalike",
   "current_citInitial": 1,
   "eqLabelWithNumbers": true,
   "eqNumInitial": 1,
   "hotkeys": {
    "equation": "Ctrl-E",
    "itemize": "Ctrl-I"
   },
   "labels_anchors": false,
   "latex_user_defs": false,
   "report_style_numbering": false,
   "user_envs_cfg": false
  }
 },
 "nbformat": 4,
 "nbformat_minor": 4
}
