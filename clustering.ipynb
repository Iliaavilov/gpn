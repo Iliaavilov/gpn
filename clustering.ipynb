{
 "cells": [
  {
   "cell_type": "code",
   "execution_count": 132,
   "metadata": {},
   "outputs": [],
   "source": [
    "import pandas as pd\n",
    "import numpy as np\n",
    "import seaborn as sns\n",
    "from sklearn.cluster import KMeans, AgglomerativeClustering\n",
    "import matplotlib.pyplot as plt\n",
    "from sklearn.preprocessing import MinMaxScaler"
   ]
  },
  {
   "cell_type": "code",
   "execution_count": 194,
   "metadata": {},
   "outputs": [],
   "source": [
    "data_path = 'data/'\n",
    "\n",
    "shops = pd.read_parquet(data_path + 'shops.parquet')"
   ]
  },
  {
   "cell_type": "code",
   "execution_count": 195,
   "metadata": {},
   "outputs": [
    {
     "data": {
      "text/html": [
       "<div>\n",
       "<style scoped>\n",
       "    .dataframe tbody tr th:only-of-type {\n",
       "        vertical-align: middle;\n",
       "    }\n",
       "\n",
       "    .dataframe tbody tr th {\n",
       "        vertical-align: top;\n",
       "    }\n",
       "\n",
       "    .dataframe thead th {\n",
       "        text-align: right;\n",
       "    }\n",
       "</style>\n",
       "<table border=\"1\" class=\"dataframe\">\n",
       "  <thead>\n",
       "    <tr style=\"text-align: right;\">\n",
       "      <th></th>\n",
       "      <th>shop_id</th>\n",
       "      <th>neighborhood</th>\n",
       "      <th>city</th>\n",
       "      <th>year_opened</th>\n",
       "      <th>is_on_the_road</th>\n",
       "      <th>is_with_the_well</th>\n",
       "      <th>is_with_additional_services</th>\n",
       "      <th>shop_type</th>\n",
       "    </tr>\n",
       "  </thead>\n",
       "  <tbody>\n",
       "    <tr>\n",
       "      <th>0</th>\n",
       "      <td>705</td>\n",
       "      <td>В центре</td>\n",
       "      <td>Крепость Джита</td>\n",
       "      <td>2109</td>\n",
       "      <td>нет</td>\n",
       "      <td>да</td>\n",
       "      <td>да</td>\n",
       "      <td>1</td>\n",
       "    </tr>\n",
       "    <tr>\n",
       "      <th>1</th>\n",
       "      <td>601</td>\n",
       "      <td>В центре</td>\n",
       "      <td>Суховей</td>\n",
       "      <td>2137</td>\n",
       "      <td>нет</td>\n",
       "      <td>нет</td>\n",
       "      <td>нет</td>\n",
       "      <td>4</td>\n",
       "    </tr>\n",
       "    <tr>\n",
       "      <th>2</th>\n",
       "      <td>530</td>\n",
       "      <td>В центре</td>\n",
       "      <td>Храм Фритюра</td>\n",
       "      <td>2118</td>\n",
       "      <td>нет</td>\n",
       "      <td>нет</td>\n",
       "      <td>нет</td>\n",
       "      <td>None</td>\n",
       "    </tr>\n",
       "    <tr>\n",
       "      <th>3</th>\n",
       "      <td>91</td>\n",
       "      <td>В центре</td>\n",
       "      <td>Убежище Жестянщика</td>\n",
       "      <td>2135</td>\n",
       "      <td>нет</td>\n",
       "      <td>нет</td>\n",
       "      <td>да</td>\n",
       "      <td>1</td>\n",
       "    </tr>\n",
       "    <tr>\n",
       "      <th>4</th>\n",
       "      <td>100</td>\n",
       "      <td>На отшибе</td>\n",
       "      <td>Убежище Жестянщика</td>\n",
       "      <td>2135</td>\n",
       "      <td>да</td>\n",
       "      <td>нет</td>\n",
       "      <td>да</td>\n",
       "      <td>2</td>\n",
       "    </tr>\n",
       "    <tr>\n",
       "      <th>...</th>\n",
       "      <td>...</td>\n",
       "      <td>...</td>\n",
       "      <td>...</td>\n",
       "      <td>...</td>\n",
       "      <td>...</td>\n",
       "      <td>...</td>\n",
       "      <td>...</td>\n",
       "      <td>...</td>\n",
       "    </tr>\n",
       "    <tr>\n",
       "      <th>840</th>\n",
       "      <td>663</td>\n",
       "      <td>У тоннеля</td>\n",
       "      <td>Темница</td>\n",
       "      <td>2139</td>\n",
       "      <td>нет</td>\n",
       "      <td>нет</td>\n",
       "      <td>нет</td>\n",
       "      <td>4</td>\n",
       "    </tr>\n",
       "    <tr>\n",
       "      <th>841</th>\n",
       "      <td>804</td>\n",
       "      <td>В центре</td>\n",
       "      <td>Пасть</td>\n",
       "      <td>-1</td>\n",
       "      <td>нет</td>\n",
       "      <td>None</td>\n",
       "      <td>None</td>\n",
       "      <td>4</td>\n",
       "    </tr>\n",
       "    <tr>\n",
       "      <th>842</th>\n",
       "      <td>272</td>\n",
       "      <td>У ночлега</td>\n",
       "      <td>Крепость Джита</td>\n",
       "      <td>2117</td>\n",
       "      <td>нет</td>\n",
       "      <td>нет</td>\n",
       "      <td>нет</td>\n",
       "      <td>3</td>\n",
       "    </tr>\n",
       "    <tr>\n",
       "      <th>843</th>\n",
       "      <td>715</td>\n",
       "      <td>У ночлега</td>\n",
       "      <td>Крепость Джита</td>\n",
       "      <td>2123</td>\n",
       "      <td>нет</td>\n",
       "      <td>нет</td>\n",
       "      <td>нет</td>\n",
       "      <td>3</td>\n",
       "    </tr>\n",
       "    <tr>\n",
       "      <th>844</th>\n",
       "      <td>289</td>\n",
       "      <td>В центре</td>\n",
       "      <td>Крепость Джита</td>\n",
       "      <td>2133</td>\n",
       "      <td>нет</td>\n",
       "      <td>нет</td>\n",
       "      <td>да</td>\n",
       "      <td>3</td>\n",
       "    </tr>\n",
       "  </tbody>\n",
       "</table>\n",
       "<p>845 rows × 8 columns</p>\n",
       "</div>"
      ],
      "text/plain": [
       "     shop_id neighborhood                city  year_opened is_on_the_road  \\\n",
       "0        705     В центре      Крепость Джита         2109            нет   \n",
       "1        601     В центре             Суховей         2137            нет   \n",
       "2        530     В центре        Храм Фритюра         2118            нет   \n",
       "3         91     В центре  Убежище Жестянщика         2135            нет   \n",
       "4        100    На отшибе  Убежище Жестянщика         2135             да   \n",
       "..       ...          ...                 ...          ...            ...   \n",
       "840      663    У тоннеля             Темница         2139            нет   \n",
       "841      804     В центре               Пасть           -1            нет   \n",
       "842      272    У ночлега      Крепость Джита         2117            нет   \n",
       "843      715    У ночлега      Крепость Джита         2123            нет   \n",
       "844      289     В центре      Крепость Джита         2133            нет   \n",
       "\n",
       "    is_with_the_well is_with_additional_services shop_type  \n",
       "0                 да                          да         1  \n",
       "1                нет                         нет         4  \n",
       "2                нет                         нет      None  \n",
       "3                нет                          да         1  \n",
       "4                нет                          да         2  \n",
       "..               ...                         ...       ...  \n",
       "840              нет                         нет         4  \n",
       "841             None                        None         4  \n",
       "842              нет                         нет         3  \n",
       "843              нет                         нет         3  \n",
       "844              нет                          да         3  \n",
       "\n",
       "[845 rows x 8 columns]"
      ]
     },
     "execution_count": 195,
     "metadata": {},
     "output_type": "execute_result"
    }
   ],
   "source": [
    "shops"
   ]
  },
  {
   "cell_type": "code",
   "execution_count": 20,
   "metadata": {},
   "outputs": [],
   "source": [
    "sales_pivoted = pd.read_csv('sales_pivoted.csv')"
   ]
  },
  {
   "cell_type": "code",
   "execution_count": 10,
   "metadata": {},
   "outputs": [
    {
     "data": {
      "text/plain": [
       "shop_id\n",
       "0      699\n",
       "556    699\n",
       "557    699\n",
       "558    699\n",
       "559    699\n",
       "      ... \n",
       "285    699\n",
       "286    699\n",
       "287    699\n",
       "263    699\n",
       "844    699\n",
       "Length: 845, dtype: int64"
      ]
     },
     "execution_count": 10,
     "metadata": {},
     "output_type": "execute_result"
    }
   ],
   "source": [
    "sales_pivoted.groupby('shop_id').size().sort_values()"
   ]
  },
  {
   "cell_type": "code",
   "execution_count": 21,
   "metadata": {},
   "outputs": [],
   "source": [
    "goods = sales_pivoted.iloc[:, 2:-1].columns"
   ]
  },
  {
   "cell_type": "markdown",
   "metadata": {},
   "source": [
    "# Процентное увеличение по сравнению со следующим днем"
   ]
  },
  {
   "cell_type": "code",
   "execution_count": 22,
   "metadata": {},
   "outputs": [],
   "source": [
    "data = sales_pivoted.copy()"
   ]
  },
  {
   "cell_type": "code",
   "execution_count": 23,
   "metadata": {},
   "outputs": [
    {
     "name": "stdout",
     "output_type": "stream",
     "text": [
      "Бензак\n",
      "Броня и одежда\n",
      "Жидкости для тачки\n",
      "Медпрепараты и еда\n",
      "Модификации тачки\n",
      "Оружие\n",
      "Патроны\n",
      "Солярка\n",
      "Съедобный хлам\n",
      "Хлам\n",
      "Ядер-Кола\n"
     ]
    }
   ],
   "source": [
    "for good in goods:\n",
    "    print(good)\n",
    "    data[good] = data.groupby('shop_id')[good]\\\n",
    "                     .rolling(2)\\\n",
    "                     .apply(lambda x: (x.iloc[-1] - x.iloc[0])/x.iloc[0])\\\n",
    "                     .reset_index(drop = True)"
   ]
  },
  {
   "cell_type": "code",
   "execution_count": 27,
   "metadata": {},
   "outputs": [],
   "source": [
    "data = data.fillna(0)\n",
    "data = data.replace(np.inf, 1)\n",
    "data = data.replace(-np.inf, -1)"
   ]
  },
  {
   "cell_type": "code",
   "execution_count": 55,
   "metadata": {
    "scrolled": true
   },
   "outputs": [
    {
     "data": {
      "image/png": "[encoded data removed]",
      "text/plain": [
       "<Figure size 720x720 with 11 Axes>"
      ]
     },
     "metadata": {
      "needs_background": "light"
     },
     "output_type": "display_data"
    }
   ],
   "source": [
    "fig, ax = plt.subplots(11, 1, figsize = (10, 10))\n",
    "i = 0\n",
    "for good in goods:\n",
    "    data_to_cluster = pd.pivot_table(data, index = 'shop_id', columns = 'date', values = good)\n",
    "    kmeans = KMeans(n_clusters = 10)\n",
    "    kmeans.fit(data_to_cluster.values)\n",
    "    pd.Series(kmeans.labels_).value_counts()\n",
    "    _ = sns.barplot(x = list(range(0, 10)), y = pd.Series(kmeans.labels_).value_counts().values, ax = ax[i])\n",
    "    i = i+1"
   ]
  },
  {
   "cell_type": "code",
   "execution_count": 58,
   "metadata": {},
   "outputs": [
    {
     "data": {
      "image/png": "[encoded data removed]",
      "text/plain": [
       "<Figure size 720x720 with 11 Axes>"
      ]
     },
     "metadata": {
      "needs_background": "light"
     },
     "output_type": "display_data"
    }
   ],
   "source": [
    "fig, ax = plt.subplots(11, 1, figsize = (10, 10))\n",
    "i = 0\n",
    "for good in goods:\n",
    "    data_to_cluster = pd.pivot_table(data, index = 'shop_id', columns = 'date', values = good)\n",
    "    kmeans = AgglomerativeClustering(n_clusters = 10)\n",
    "    kmeans.fit(data_to_cluster.values)\n",
    "    pd.Series(kmeans.labels_).value_counts()\n",
    "    _ = sns.barplot(x = list(range(0, 10)), y = pd.Series(kmeans.labels_).value_counts().values, ax = ax[i])\n",
    "    i = i+1"
   ]
  },
  {
   "cell_type": "markdown",
   "metadata": {},
   "source": [
    "# Процентное увеличения скользящего среднего за 7 дней"
   ]
  },
  {
   "cell_type": "code",
   "execution_count": 75,
   "metadata": {},
   "outputs": [],
   "source": [
    "data_mean = sales_pivoted.copy()"
   ]
  },
  {
   "cell_type": "code",
   "execution_count": 76,
   "metadata": {},
   "outputs": [
    {
     "name": "stdout",
     "output_type": "stream",
     "text": [
      "Бензак\n",
      "Броня и одежда\n",
      "Жидкости для тачки\n",
      "Медпрепараты и еда\n",
      "Модификации тачки\n",
      "Оружие\n",
      "Патроны\n",
      "Солярка\n",
      "Съедобный хлам\n",
      "Хлам\n",
      "Ядер-Кола\n"
     ]
    }
   ],
   "source": [
    "for good in goods:\n",
    "    print(good)\n",
    "    data_mean[good] = data_mean.groupby('shop_id')[good]\\\n",
    "                               .rolling(7)\\\n",
    "                               .apply(lambda x: np.mean(x))\\\n",
    "                               .reset_index(drop = True)"
   ]
  },
  {
   "cell_type": "code",
   "execution_count": 105,
   "metadata": {},
   "outputs": [],
   "source": [
    "data_mean_rolling_1 = data_mean.copy()"
   ]
  },
  {
   "cell_type": "code",
   "execution_count": 106,
   "metadata": {
    "scrolled": true
   },
   "outputs": [
    {
     "name": "stdout",
     "output_type": "stream",
     "text": [
      "Бензак\n",
      "Броня и одежда\n",
      "Жидкости для тачки\n",
      "Медпрепараты и еда\n",
      "Модификации тачки\n",
      "Оружие\n",
      "Патроны\n",
      "Солярка\n",
      "Съедобный хлам\n",
      "Хлам\n",
      "Ядер-Кола\n"
     ]
    }
   ],
   "source": [
    "for good in goods:\n",
    "    print(good)\n",
    "    data_mean_rolling_1[good] = data_mean_rolling_1.groupby('shop_id')[good]\\\n",
    "                                                   .rolling(2)\\\n",
    "                                                   .apply(lambda x: (x.iloc[-1] - x.iloc[0])/x.iloc[0])\\\n",
    "                                                   .reset_index(drop = True)"
   ]
  },
  {
   "cell_type": "code",
   "execution_count": 108,
   "metadata": {},
   "outputs": [],
   "source": [
    "data_mean_rolling_1 = data_mean_rolling_1.fillna(0)\n",
    "data_mean_rolling_1 = data_mean_rolling_1.replace(np.inf, 1)\n",
    "data_mean_rolling_1 = data_mean_rolling_1.replace(-np.inf, -1)"
   ]
  },
  {
   "cell_type": "code",
   "execution_count": 109,
   "metadata": {},
   "outputs": [
    {
     "data": {
      "image/png": "[encoded data removed]",
      "text/plain": [
       "<Figure size 720x720 with 11 Axes>"
      ]
     },
     "metadata": {
      "needs_background": "light"
     },
     "output_type": "display_data"
    }
   ],
   "source": [
    "fig, ax = plt.subplots(11, 1, figsize = (10, 10))\n",
    "i = 0\n",
    "for good in goods:\n",
    "    data_to_cluster = pd.pivot_table(data_mean_rolling_1, index = 'shop_id', columns = 'date', values = good)\n",
    "    kmeans = KMeans(n_clusters = 10)\n",
    "    kmeans.fit(data_to_cluster.values)\n",
    "    pd.Series(kmeans.labels_).value_counts()\n",
    "    _ = sns.barplot(x = list(range(0, 10)), y = pd.Series(kmeans.labels_).value_counts().values, ax = ax[i])\n",
    "    i = i+1"
   ]
  },
  {
   "cell_type": "code",
   "execution_count": 110,
   "metadata": {},
   "outputs": [
    {
     "data": {
      "image/png": "[encoded data removed]",
      "text/plain": [
       "<Figure size 720x720 with 11 Axes>"
      ]
     },
     "metadata": {
      "needs_background": "light"
     },
     "output_type": "display_data"
    }
   ],
   "source": [
    "fig, ax = plt.subplots(11, 1, figsize = (10, 10))\n",
    "i = 0\n",
    "for good in goods:\n",
    "    data_to_cluster = pd.pivot_table(data_mean_rolling_1, index = 'shop_id', columns = 'date', values = good)\n",
    "    kmeans = AgglomerativeClustering(n_clusters = 10)\n",
    "    kmeans.fit(data_to_cluster.values)\n",
    "    pd.Series(kmeans.labels_).value_counts()\n",
    "    _ = sns.barplot(x = list(range(0, 10)), y = pd.Series(kmeans.labels_).value_counts().values, ax = ax[i])\n",
    "    i = i+1"
   ]
  },
  {
   "cell_type": "code",
   "execution_count": 111,
   "metadata": {},
   "outputs": [],
   "source": [
    "data_mean_rolling_6 = data_mean.copy()"
   ]
  },
  {
   "cell_type": "code",
   "execution_count": 112,
   "metadata": {},
   "outputs": [
    {
     "name": "stdout",
     "output_type": "stream",
     "text": [
      "Бензак\n",
      "Броня и одежда\n",
      "Жидкости для тачки\n",
      "Медпрепараты и еда\n",
      "Модификации тачки\n",
      "Оружие\n",
      "Патроны\n",
      "Солярка\n",
      "Съедобный хлам\n",
      "Хлам\n",
      "Ядер-Кола\n"
     ]
    }
   ],
   "source": [
    "for good in goods:\n",
    "    print(good)\n",
    "    data_mean_rolling_6[good] = data_mean_rolling_6.groupby('shop_id')[good]\\\n",
    "                                                   .rolling(8)\\\n",
    "                                                   .apply(lambda x: (x.iloc[-1] - x.iloc[0])/x.iloc[0])\\\n",
    "                                                   .reset_index(drop = True)"
   ]
  },
  {
   "cell_type": "code",
   "execution_count": 113,
   "metadata": {},
   "outputs": [],
   "source": [
    "data_mean_rolling_6 = data_mean_rolling_6.fillna(0)\n",
    "data_mean_rolling_6 = data_mean_rolling_6.replace(np.inf, 1)\n",
    "data_mean_rolling_6 = data_mean_rolling_6.replace(-np.inf, -1)"
   ]
  },
  {
   "cell_type": "code",
   "execution_count": 114,
   "metadata": {},
   "outputs": [
    {
     "data": {
      "image/png": "[encoded data removed]",
      "text/plain": [
       "<Figure size 720x720 with 11 Axes>"
      ]
     },
     "metadata": {
      "needs_background": "light"
     },
     "output_type": "display_data"
    }
   ],
   "source": [
    "fig, ax = plt.subplots(11, 1, figsize = (10, 10))\n",
    "i = 0\n",
    "for good in goods:\n",
    "    data_to_cluster = pd.pivot_table(data_mean_rolling_6, index = 'shop_id', columns = 'date', values = good)\n",
    "    kmeans = KMeans(n_clusters = 10)\n",
    "    kmeans.fit(data_to_cluster.values)\n",
    "    pd.Series(kmeans.labels_).value_counts()\n",
    "    _ = sns.barplot(x = list(range(0, 10)), y = pd.Series(kmeans.labels_).value_counts().values, ax = ax[i])\n",
    "    i = i+1"
   ]
  },
  {
   "cell_type": "code",
   "execution_count": 115,
   "metadata": {},
   "outputs": [
    {
     "data": {
      "image/png": "[encoded data removed]",
      "text/plain": [
       "<Figure size 720x720 with 11 Axes>"
      ]
     },
     "metadata": {
      "needs_background": "light"
     },
     "output_type": "display_data"
    }
   ],
   "source": [
    "fig, ax = plt.subplots(11, 1, figsize = (10, 10))\n",
    "i = 0\n",
    "for good in goods:\n",
    "    data_to_cluster = pd.pivot_table(data_mean_rolling_6, index = 'shop_id', columns = 'date', values = good)\n",
    "    kmeans = AgglomerativeClustering(n_clusters = 10)\n",
    "    kmeans.fit(data_to_cluster.values)\n",
    "    pd.Series(kmeans.labels_).value_counts()\n",
    "    _ = sns.barplot(x = list(range(0, 10)), y = pd.Series(kmeans.labels_).value_counts().values, ax = ax[i])\n",
    "    i = i+1"
   ]
  },
  {
   "cell_type": "code",
   "execution_count": 116,
   "metadata": {},
   "outputs": [],
   "source": [
    "data_mean_14 = sales_pivoted.copy()"
   ]
  },
  {
   "cell_type": "code",
   "execution_count": 117,
   "metadata": {},
   "outputs": [
    {
     "name": "stdout",
     "output_type": "stream",
     "text": [
      "Бензак\n",
      "Броня и одежда\n",
      "Жидкости для тачки\n",
      "Медпрепараты и еда\n",
      "Модификации тачки\n",
      "Оружие\n",
      "Патроны\n",
      "Солярка\n",
      "Съедобный хлам\n",
      "Хлам\n",
      "Ядер-Кола\n"
     ]
    }
   ],
   "source": [
    "for good in goods:\n",
    "    print(good)\n",
    "    data_mean_14[good] = data_mean_14.groupby('shop_id')[good]\\\n",
    "                                     .rolling(14)\\\n",
    "                                     .apply(lambda x: np.mean(x))\\\n",
    "                                     .reset_index(drop = True)"
   ]
  },
  {
   "cell_type": "code",
   "execution_count": 118,
   "metadata": {},
   "outputs": [],
   "source": [
    "data_mean_rolling_1 = data_mean_14.copy()"
   ]
  },
  {
   "cell_type": "code",
   "execution_count": 119,
   "metadata": {},
   "outputs": [
    {
     "name": "stdout",
     "output_type": "stream",
     "text": [
      "Бензак\n",
      "Броня и одежда\n",
      "Жидкости для тачки\n",
      "Медпрепараты и еда\n",
      "Модификации тачки\n",
      "Оружие\n",
      "Патроны\n",
      "Солярка\n",
      "Съедобный хлам\n",
      "Хлам\n",
      "Ядер-Кола\n"
     ]
    }
   ],
   "source": [
    "for good in goods:\n",
    "    print(good)\n",
    "    data_mean_rolling_1[good] = data_mean_rolling_1.groupby('shop_id')[good]\\\n",
    "                                                   .rolling(2)\\\n",
    "                                                   .apply(lambda x: (x.iloc[-1] - x.iloc[0])/x.iloc[0])\\\n",
    "                                                   .reset_index(drop = True)"
   ]
  },
  {
   "cell_type": "code",
   "execution_count": 120,
   "metadata": {},
   "outputs": [],
   "source": [
    "data_mean_rolling_1 = data_mean_rolling_1.fillna(0)\n",
    "data_mean_rolling_1 = data_mean_rolling_1.replace(np.inf, 1)\n",
    "data_mean_rolling_1 = data_mean_rolling_1.replace(-np.inf, -1)"
   ]
  },
  {
   "cell_type": "code",
   "execution_count": 121,
   "metadata": {},
   "outputs": [
    {
     "data": {
      "image/png": "[encoded data removed]",
      "text/plain": [
       "<Figure size 720x720 with 11 Axes>"
      ]
     },
     "metadata": {
      "needs_background": "light"
     },
     "output_type": "display_data"
    }
   ],
   "source": [
    "fig, ax = plt.subplots(11, 1, figsize = (10, 10))\n",
    "i = 0\n",
    "for good in goods:\n",
    "    data_to_cluster = pd.pivot_table(data_mean_rolling_1, index = 'shop_id', columns = 'date', values = good)\n",
    "    kmeans = KMeans(n_clusters = 10)\n",
    "    kmeans.fit(data_to_cluster.values)\n",
    "    pd.Series(kmeans.labels_).value_counts()\n",
    "    _ = sns.barplot(x = list(range(0, 10)), y = pd.Series(kmeans.labels_).value_counts().values, ax = ax[i])\n",
    "    i = i+1"
   ]
  },
  {
   "cell_type": "code",
   "execution_count": 122,
   "metadata": {},
   "outputs": [
    {
     "data": {
      "image/png": "[encoded data removed]",
      "text/plain": [
       "<Figure size 720x720 with 11 Axes>"
      ]
     },
     "metadata": {
      "needs_background": "light"
     },
     "output_type": "display_data"
    }
   ],
   "source": [
    "fig, ax = plt.subplots(11, 1, figsize = (10, 10))\n",
    "i = 0\n",
    "for good in goods:\n",
    "    data_to_cluster = pd.pivot_table(data_mean_rolling_1, index = 'shop_id', columns = 'date', values = good)\n",
    "    kmeans = AgglomerativeClustering(n_clusters = 10)\n",
    "    kmeans.fit(data_to_cluster.values)\n",
    "    pd.Series(kmeans.labels_).value_counts()\n",
    "    _ = sns.barplot(x = list(range(0, 10)), y = pd.Series(kmeans.labels_).value_counts().values, ax = ax[i])\n",
    "    i = i+1"
   ]
  },
  {
   "cell_type": "code",
   "execution_count": 123,
   "metadata": {},
   "outputs": [],
   "source": [
    "data_mean_rolling_7 = data_mean_14.copy()"
   ]
  },
  {
   "cell_type": "code",
   "execution_count": 124,
   "metadata": {},
   "outputs": [
    {
     "name": "stdout",
     "output_type": "stream",
     "text": [
      "Бензак\n",
      "Броня и одежда\n",
      "Жидкости для тачки\n",
      "Медпрепараты и еда\n",
      "Модификации тачки\n",
      "Оружие\n",
      "Патроны\n",
      "Солярка\n",
      "Съедобный хлам\n",
      "Хлам\n",
      "Ядер-Кола\n"
     ]
    }
   ],
   "source": [
    "for good in goods:\n",
    "    print(good)\n",
    "    data_mean_rolling_7[good] = data_mean_rolling_7.groupby('shop_id')[good]\\\n",
    "                                                   .rolling(8)\\\n",
    "                                                   .apply(lambda x: (x.iloc[-1] - x.iloc[0])/x.iloc[0])\\\n",
    "                                                   .reset_index(drop = True)"
   ]
  },
  {
   "cell_type": "code",
   "execution_count": 125,
   "metadata": {},
   "outputs": [],
   "source": [
    "data_mean_rolling_7 = data_mean_rolling_7.fillna(0)\n",
    "data_mean_rolling_7 = data_mean_rolling_7.replace(np.inf, 1)\n",
    "data_mean_rolling_7 = data_mean_rolling_7.replace(-np.inf, -1)"
   ]
  },
  {
   "cell_type": "code",
   "execution_count": 126,
   "metadata": {},
   "outputs": [
    {
     "data": {
      "image/png": "[encoded data removed]",
      "text/plain": [
       "<Figure size 720x720 with 11 Axes>"
      ]
     },
     "metadata": {
      "needs_background": "light"
     },
     "output_type": "display_data"
    }
   ],
   "source": [
    "fig, ax = plt.subplots(11, 1, figsize = (10, 10))\n",
    "i = 0\n",
    "for good in goods:\n",
    "    data_to_cluster = pd.pivot_table(data_mean_rolling_7, index = 'shop_id', columns = 'date', values = good)\n",
    "    kmeans = KMeans(n_clusters = 10)\n",
    "    kmeans.fit(data_to_cluster.values)\n",
    "    pd.Series(kmeans.labels_).value_counts()\n",
    "    _ = sns.barplot(x = list(range(0, 10)), y = pd.Series(kmeans.labels_).value_counts().values, ax = ax[i])\n",
    "    i = i+1"
   ]
  },
  {
   "cell_type": "code",
   "execution_count": 127,
   "metadata": {},
   "outputs": [
    {
     "data": {
      "image/png": "[encoded data removed]",
      "text/plain": [
       "<Figure size 720x720 with 11 Axes>"
      ]
     },
     "metadata": {
      "needs_background": "light"
     },
     "output_type": "display_data"
    }
   ],
   "source": [
    "fig, ax = plt.subplots(11, 1, figsize = (10, 10))\n",
    "i = 0\n",
    "for good in goods:\n",
    "    data_to_cluster = pd.pivot_table(data_mean_rolling_7, index = 'shop_id', columns = 'date', values = good)\n",
    "    kmeans = AgglomerativeClustering(n_clusters = 10)\n",
    "    kmeans.fit(data_to_cluster.values)\n",
    "    pd.Series(kmeans.labels_).value_counts()\n",
    "    _ = sns.barplot(x = list(range(0, 10)), y = pd.Series(kmeans.labels_).value_counts().values, ax = ax[i])\n",
    "    i = i+1"
   ]
  },
  {
   "cell_type": "code",
   "execution_count": 185,
   "metadata": {},
   "outputs": [],
   "source": [
    "data_mean_14_copy = data_mean_14.copy()"
   ]
  },
  {
   "cell_type": "code",
   "execution_count": 186,
   "metadata": {},
   "outputs": [],
   "source": [
    "def scaling(x):\n",
    "    scaler = MinMaxScaler()\n",
    "    x = scaler.fit_transform(x.values.reshape(-1, 1)).flatten()\n",
    "    return(pd.Series(x))"
   ]
  },
  {
   "cell_type": "code",
   "execution_count": 187,
   "metadata": {},
   "outputs": [
    {
     "name": "stdout",
     "output_type": "stream",
     "text": [
      "Бензак\n",
      "Броня и одежда\n",
      "Жидкости для тачки\n",
      "Медпрепараты и еда\n",
      "Модификации тачки\n",
      "Оружие\n",
      "Патроны\n",
      "Солярка\n",
      "Съедобный хлам\n",
      "Хлам\n",
      "Ядер-Кола\n"
     ]
    }
   ],
   "source": [
    "for good in goods:\n",
    "    print(good)\n",
    "    data_mean_14_copy[good] = data_mean_14_copy.groupby('shop_id')[good].apply(scaling).reset_index(drop = True)"
   ]
  },
  {
   "cell_type": "code",
   "execution_count": 189,
   "metadata": {},
   "outputs": [],
   "source": [
    "data_mean_14_copy = data_mean_14_copy.fillna(0)\n",
    "data_mean_14_copy = data_mean_14_copy.replace(np.inf, 1)\n",
    "data_mean_14_copy = data_mean_14_copy.replace(-np.inf, -1)"
   ]
  },
  {
   "cell_type": "code",
   "execution_count": 190,
   "metadata": {
    "scrolled": true
   },
   "outputs": [
    {
     "data": {
      "image/png": "[encoded data removed]",
      "text/plain": [
       "<Figure size 720x720 with 11 Axes>"
      ]
     },
     "metadata": {
      "needs_background": "light"
     },
     "output_type": "display_data"
    }
   ],
   "source": [
    "fig, ax = plt.subplots(11, 1, figsize = (10, 10))\n",
    "i = 0\n",
    "for good in goods:\n",
    "    data_to_cluster = pd.pivot_table(data_mean_14_copy, index = 'shop_id', columns = 'date', values = good)\n",
    "    kmeans = KMeans(n_clusters = 10)\n",
    "    kmeans.fit(data_to_cluster.values)\n",
    "    pd.Series(kmeans.labels_).value_counts()\n",
    "    _ = sns.barplot(x = list(range(0, 10)), y = pd.Series(kmeans.labels_).value_counts().values, ax = ax[i])\n",
    "    i = i+1"
   ]
  },
  {
   "cell_type": "code",
   "execution_count": 191,
   "metadata": {},
   "outputs": [
    {
     "data": {
      "image/png": "[encoded data removed]",
      "text/plain": [
       "<Figure size 720x720 with 11 Axes>"
      ]
     },
     "metadata": {
      "needs_background": "light"
     },
     "output_type": "display_data"
    }
   ],
   "source": [
    "fig, ax = plt.subplots(11, 1, figsize = (10, 10))\n",
    "i = 0\n",
    "for good in goods:\n",
    "    data_to_cluster = pd.pivot_table(data_mean_14_copy, index = 'shop_id', columns = 'date', values = good)\n",
    "    kmeans = AgglomerativeClustering(n_clusters = 10)\n",
    "    kmeans.fit(data_to_cluster.values)\n",
    "    pd.Series(kmeans.labels_).value_counts()\n",
    "    _ = sns.barplot(x = list(range(0, 10)), y = pd.Series(kmeans.labels_).value_counts().values, ax = ax[i])\n",
    "    i = i+1"
   ]
  },
  {
   "cell_type": "code",
   "execution_count": 193,
   "metadata": {},
   "outputs": [
    {
     "data": {
      "text/plain": [
       "array([[1., 1.],\n",
       "       [1., 1.]])"
      ]
     },
     "execution_count": 193,
     "metadata": {},
     "output_type": "execute_result"
    }
   ],
   "source": [
    "np.corrcoef([0, 1, 2, 3, 2, 1, 0], [1, 2, 3, 4, 3, 2, 1])"
   ]
  }
 ],
 "metadata": {
  "kernelspec": {
   "display_name": "Python 3",
   "language": "python",
   "name": "python3"
  },
  "language_info": {
   "codemirror_mode": {
    "name": "ipython",
    "version": 3
   },
   "file_extension": ".py",
   "mimetype": "text/x-python",
   "name": "python",
   "nbconvert_exporter": "python",
   "pygments_lexer": "ipython3",
   "version": "3.8.3"
  }
 },
 "nbformat": 4,
 "nbformat_minor": 4
}
