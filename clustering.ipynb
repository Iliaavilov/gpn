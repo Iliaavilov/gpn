{
 "cells": [
  {
   "cell_type": "markdown",
   "metadata": {},
   "source": [
    "# Загрузка библиотек"
   ]
  },
  {
   "cell_type": "code",
   "execution_count": 1,
   "metadata": {},
   "outputs": [],
   "source": [
    "import pandas as pd\n",
    "import seaborn as sns\n",
    "import matplotlib.pyplot as plt\n",
    "from sklearn.preprocessing import MinMaxScaler\n",
    "from sklearn.cluster import KMeans, SpectralClustering, AgglomerativeClustering, Birch\n",
    "from sklearn.metrics import silhouette_score"
   ]
  },
  {
   "cell_type": "markdown",
   "metadata": {},
   "source": [
    "# Определение констант"
   ]
  },
  {
   "cell_type": "code",
   "execution_count": 2,
   "metadata": {},
   "outputs": [],
   "source": [
    "data_path = 'data/'\n",
    "\n",
    "goods = ['Бензак', 'Броня и одежда', 'Жидкости для тачки', 'Медпрепараты и еда',\n",
    "         'Модификации тачки', 'Оружие', 'Патроны', 'Солярка', 'Съедобный хлам',\n",
    "         'Хлам', 'Ядер-Кола']\n",
    "\n",
    "random_state = 1543"
   ]
  },
  {
   "cell_type": "markdown",
   "metadata": {},
   "source": [
    "# Загрузка данных"
   ]
  },
  {
   "cell_type": "code",
   "execution_count": 3,
   "metadata": {},
   "outputs": [],
   "source": [
    "shops = pd.read_parquet(data_path + 'shops.parquet')\n",
    "sales_pivoted = pd.read_csv('sales_pivoted.csv')\n",
    "sales_pivoted['date'] = pd.to_datetime(sales_pivoted['date'])"
   ]
  },
  {
   "cell_type": "code",
   "execution_count": 4,
   "metadata": {},
   "outputs": [
    {
     "data": {
      "text/html": [
       "<div>\n",
       "<style scoped>\n",
       "    .dataframe tbody tr th:only-of-type {\n",
       "        vertical-align: middle;\n",
       "    }\n",
       "\n",
       "    .dataframe tbody tr th {\n",
       "        vertical-align: top;\n",
       "    }\n",
       "\n",
       "    .dataframe thead th {\n",
       "        text-align: right;\n",
       "    }\n",
       "</style>\n",
       "<table border=\"1\" class=\"dataframe\">\n",
       "  <thead>\n",
       "    <tr style=\"text-align: right;\">\n",
       "      <th></th>\n",
       "      <th>date</th>\n",
       "      <th>shop_id</th>\n",
       "      <th>Бензак</th>\n",
       "      <th>Броня и одежда</th>\n",
       "      <th>Жидкости для тачки</th>\n",
       "      <th>Медпрепараты и еда</th>\n",
       "      <th>Модификации тачки</th>\n",
       "      <th>Оружие</th>\n",
       "      <th>Патроны</th>\n",
       "      <th>Солярка</th>\n",
       "      <th>Съедобный хлам</th>\n",
       "      <th>Хлам</th>\n",
       "      <th>Ядер-Кола</th>\n",
       "      <th>number_of_counters</th>\n",
       "    </tr>\n",
       "  </thead>\n",
       "  <tbody>\n",
       "    <tr>\n",
       "      <th>0</th>\n",
       "      <td>2146-01-01</td>\n",
       "      <td>0</td>\n",
       "      <td>10537.0</td>\n",
       "      <td>NaN</td>\n",
       "      <td>NaN</td>\n",
       "      <td>NaN</td>\n",
       "      <td>NaN</td>\n",
       "      <td>NaN</td>\n",
       "      <td>NaN</td>\n",
       "      <td>NaN</td>\n",
       "      <td>6.0</td>\n",
       "      <td>26.0</td>\n",
       "      <td>NaN</td>\n",
       "      <td>4.0</td>\n",
       "    </tr>\n",
       "    <tr>\n",
       "      <th>1</th>\n",
       "      <td>2146-01-02</td>\n",
       "      <td>0</td>\n",
       "      <td>14107.0</td>\n",
       "      <td>NaN</td>\n",
       "      <td>NaN</td>\n",
       "      <td>NaN</td>\n",
       "      <td>NaN</td>\n",
       "      <td>NaN</td>\n",
       "      <td>NaN</td>\n",
       "      <td>NaN</td>\n",
       "      <td>3.0</td>\n",
       "      <td>5.0</td>\n",
       "      <td>NaN</td>\n",
       "      <td>4.0</td>\n",
       "    </tr>\n",
       "    <tr>\n",
       "      <th>2</th>\n",
       "      <td>2146-01-03</td>\n",
       "      <td>0</td>\n",
       "      <td>16092.0</td>\n",
       "      <td>2.0</td>\n",
       "      <td>NaN</td>\n",
       "      <td>NaN</td>\n",
       "      <td>NaN</td>\n",
       "      <td>NaN</td>\n",
       "      <td>NaN</td>\n",
       "      <td>NaN</td>\n",
       "      <td>18.0</td>\n",
       "      <td>17.0</td>\n",
       "      <td>NaN</td>\n",
       "      <td>4.0</td>\n",
       "    </tr>\n",
       "    <tr>\n",
       "      <th>3</th>\n",
       "      <td>2146-01-04</td>\n",
       "      <td>0</td>\n",
       "      <td>18050.0</td>\n",
       "      <td>2.0</td>\n",
       "      <td>NaN</td>\n",
       "      <td>NaN</td>\n",
       "      <td>NaN</td>\n",
       "      <td>NaN</td>\n",
       "      <td>NaN</td>\n",
       "      <td>NaN</td>\n",
       "      <td>30.0</td>\n",
       "      <td>70.0</td>\n",
       "      <td>NaN</td>\n",
       "      <td>4.0</td>\n",
       "    </tr>\n",
       "    <tr>\n",
       "      <th>4</th>\n",
       "      <td>2146-01-05</td>\n",
       "      <td>0</td>\n",
       "      <td>18456.0</td>\n",
       "      <td>NaN</td>\n",
       "      <td>NaN</td>\n",
       "      <td>NaN</td>\n",
       "      <td>NaN</td>\n",
       "      <td>NaN</td>\n",
       "      <td>NaN</td>\n",
       "      <td>NaN</td>\n",
       "      <td>18.0</td>\n",
       "      <td>6.0</td>\n",
       "      <td>NaN</td>\n",
       "      <td>4.0</td>\n",
       "    </tr>\n",
       "  </tbody>\n",
       "</table>\n",
       "</div>"
      ],
      "text/plain": [
       "        date  shop_id   Бензак  Броня и одежда  Жидкости для тачки  \\\n",
       "0 2146-01-01        0  10537.0             NaN                 NaN   \n",
       "1 2146-01-02        0  14107.0             NaN                 NaN   \n",
       "2 2146-01-03        0  16092.0             2.0                 NaN   \n",
       "3 2146-01-04        0  18050.0             2.0                 NaN   \n",
       "4 2146-01-05        0  18456.0             NaN                 NaN   \n",
       "\n",
       "   Медпрепараты и еда  Модификации тачки  Оружие  Патроны  Солярка  \\\n",
       "0                 NaN                NaN     NaN      NaN      NaN   \n",
       "1                 NaN                NaN     NaN      NaN      NaN   \n",
       "2                 NaN                NaN     NaN      NaN      NaN   \n",
       "3                 NaN                NaN     NaN      NaN      NaN   \n",
       "4                 NaN                NaN     NaN      NaN      NaN   \n",
       "\n",
       "   Съедобный хлам  Хлам  Ядер-Кола  number_of_counters  \n",
       "0             6.0  26.0        NaN                 4.0  \n",
       "1             3.0   5.0        NaN                 4.0  \n",
       "2            18.0  17.0        NaN                 4.0  \n",
       "3            30.0  70.0        NaN                 4.0  \n",
       "4            18.0   6.0        NaN                 4.0  "
      ]
     },
     "execution_count": 4,
     "metadata": {},
     "output_type": "execute_result"
    }
   ],
   "source": [
    "sales_pivoted.head()"
   ]
  },
  {
   "cell_type": "markdown",
   "metadata": {},
   "source": [
    "# Подготовка данных к кластеризации"
   ]
  },
  {
   "cell_type": "code",
   "execution_count": 5,
   "metadata": {},
   "outputs": [],
   "source": [
    "# Разделим количество проданных товаров на количество работающих прилавков\n",
    "for good in goods:\n",
    "    sales_pivoted[good] = sales_pivoted[good]/sales_pivoted['number_of_counters']\n",
    "sales_pivoted = sales_pivoted.drop('number_of_counters', axis = 'columns')"
   ]
  },
  {
   "cell_type": "code",
   "execution_count": 6,
   "metadata": {},
   "outputs": [],
   "source": [
    "# Добавим информацию о времени года\n",
    "sales_pivoted['season'] = (sales_pivoted['date'].dt.month%12 + 3)//3\n",
    "# Удалим информацию о кконкретной дате\n",
    "sales_pivoted = sales_pivoted.drop('date', axis = 'columns')"
   ]
  },
  {
   "cell_type": "code",
   "execution_count": 7,
   "metadata": {},
   "outputs": [],
   "source": [
    "# Посчитаем средние продажи в каждом времени года\n",
    "mean_sales = sales_pivoted.groupby(['shop_id', 'season']).mean()\n",
    "mean_sales = mean_sales.reset_index()\n",
    "mean_sales = pd.pivot_table(mean_sales, index = 'shop_id', columns = ['season'])"
   ]
  },
  {
   "cell_type": "code",
   "execution_count": 8,
   "metadata": {},
   "outputs": [
    {
     "data": {
      "text/html": [
       "<div>\n",
       "<style scoped>\n",
       "    .dataframe tbody tr th:only-of-type {\n",
       "        vertical-align: middle;\n",
       "    }\n",
       "\n",
       "    .dataframe tbody tr th {\n",
       "        vertical-align: top;\n",
       "    }\n",
       "\n",
       "    .dataframe thead tr th {\n",
       "        text-align: left;\n",
       "    }\n",
       "\n",
       "    .dataframe thead tr:last-of-type th {\n",
       "        text-align: right;\n",
       "    }\n",
       "</style>\n",
       "<table border=\"1\" class=\"dataframe\">\n",
       "  <thead>\n",
       "    <tr>\n",
       "      <th></th>\n",
       "      <th colspan=\"4\" halign=\"left\">Бензак</th>\n",
       "      <th colspan=\"4\" halign=\"left\">Броня и одежда</th>\n",
       "      <th colspan=\"2\" halign=\"left\">Жидкости для тачки</th>\n",
       "      <th>...</th>\n",
       "      <th colspan=\"2\" halign=\"left\">Съедобный хлам</th>\n",
       "      <th colspan=\"4\" halign=\"left\">Хлам</th>\n",
       "      <th colspan=\"4\" halign=\"left\">Ядер-Кола</th>\n",
       "    </tr>\n",
       "    <tr>\n",
       "      <th>season</th>\n",
       "      <th>1</th>\n",
       "      <th>2</th>\n",
       "      <th>3</th>\n",
       "      <th>4</th>\n",
       "      <th>1</th>\n",
       "      <th>2</th>\n",
       "      <th>3</th>\n",
       "      <th>4</th>\n",
       "      <th>1</th>\n",
       "      <th>2</th>\n",
       "      <th>...</th>\n",
       "      <th>3</th>\n",
       "      <th>4</th>\n",
       "      <th>1</th>\n",
       "      <th>2</th>\n",
       "      <th>3</th>\n",
       "      <th>4</th>\n",
       "      <th>1</th>\n",
       "      <th>2</th>\n",
       "      <th>3</th>\n",
       "      <th>4</th>\n",
       "    </tr>\n",
       "    <tr>\n",
       "      <th>shop_id</th>\n",
       "      <th></th>\n",
       "      <th></th>\n",
       "      <th></th>\n",
       "      <th></th>\n",
       "      <th></th>\n",
       "      <th></th>\n",
       "      <th></th>\n",
       "      <th></th>\n",
       "      <th></th>\n",
       "      <th></th>\n",
       "      <th></th>\n",
       "      <th></th>\n",
       "      <th></th>\n",
       "      <th></th>\n",
       "      <th></th>\n",
       "      <th></th>\n",
       "      <th></th>\n",
       "      <th></th>\n",
       "      <th></th>\n",
       "      <th></th>\n",
       "      <th></th>\n",
       "    </tr>\n",
       "  </thead>\n",
       "  <tbody>\n",
       "    <tr>\n",
       "      <th>0</th>\n",
       "      <td>4111.489597</td>\n",
       "      <td>3571.061141</td>\n",
       "      <td>4152.630435</td>\n",
       "      <td>4126.006868</td>\n",
       "      <td>0.602273</td>\n",
       "      <td>0.583333</td>\n",
       "      <td>NaN</td>\n",
       "      <td>NaN</td>\n",
       "      <td>5.000000</td>\n",
       "      <td>3.750000</td>\n",
       "      <td>...</td>\n",
       "      <td>NaN</td>\n",
       "      <td>NaN</td>\n",
       "      <td>5.070000</td>\n",
       "      <td>4.434211</td>\n",
       "      <td>NaN</td>\n",
       "      <td>NaN</td>\n",
       "      <td>NaN</td>\n",
       "      <td>NaN</td>\n",
       "      <td>NaN</td>\n",
       "      <td>NaN</td>\n",
       "    </tr>\n",
       "    <tr>\n",
       "      <th>1</th>\n",
       "      <td>2131.113087</td>\n",
       "      <td>2255.507609</td>\n",
       "      <td>2862.492391</td>\n",
       "      <td>2761.797222</td>\n",
       "      <td>0.742222</td>\n",
       "      <td>0.852055</td>\n",
       "      <td>1.069474</td>\n",
       "      <td>0.784524</td>\n",
       "      <td>4.200000</td>\n",
       "      <td>3.866667</td>\n",
       "      <td>...</td>\n",
       "      <td>8.352174</td>\n",
       "      <td>5.794320</td>\n",
       "      <td>2.921622</td>\n",
       "      <td>2.518095</td>\n",
       "      <td>2.955752</td>\n",
       "      <td>3.171759</td>\n",
       "      <td>NaN</td>\n",
       "      <td>NaN</td>\n",
       "      <td>NaN</td>\n",
       "      <td>NaN</td>\n",
       "    </tr>\n",
       "    <tr>\n",
       "      <th>2</th>\n",
       "      <td>2689.147651</td>\n",
       "      <td>2458.390110</td>\n",
       "      <td>2853.618207</td>\n",
       "      <td>2933.961538</td>\n",
       "      <td>4.119128</td>\n",
       "      <td>5.982044</td>\n",
       "      <td>7.744565</td>\n",
       "      <td>9.912088</td>\n",
       "      <td>5.087500</td>\n",
       "      <td>4.336957</td>\n",
       "      <td>...</td>\n",
       "      <td>51.302989</td>\n",
       "      <td>41.435440</td>\n",
       "      <td>14.137755</td>\n",
       "      <td>10.786313</td>\n",
       "      <td>14.927989</td>\n",
       "      <td>15.497238</td>\n",
       "      <td>11.988255</td>\n",
       "      <td>13.489011</td>\n",
       "      <td>17.201087</td>\n",
       "      <td>19.739011</td>\n",
       "    </tr>\n",
       "    <tr>\n",
       "      <th>3</th>\n",
       "      <td>7861.261745</td>\n",
       "      <td>7296.433424</td>\n",
       "      <td>7933.891304</td>\n",
       "      <td>8430.595304</td>\n",
       "      <td>0.796053</td>\n",
       "      <td>0.746377</td>\n",
       "      <td>0.692029</td>\n",
       "      <td>0.726667</td>\n",
       "      <td>7.689655</td>\n",
       "      <td>9.413551</td>\n",
       "      <td>...</td>\n",
       "      <td>15.531250</td>\n",
       "      <td>10.116022</td>\n",
       "      <td>6.289370</td>\n",
       "      <td>6.815789</td>\n",
       "      <td>7.690909</td>\n",
       "      <td>7.250000</td>\n",
       "      <td>NaN</td>\n",
       "      <td>NaN</td>\n",
       "      <td>NaN</td>\n",
       "      <td>1.250000</td>\n",
       "    </tr>\n",
       "    <tr>\n",
       "      <th>4</th>\n",
       "      <td>3633.142207</td>\n",
       "      <td>2992.049306</td>\n",
       "      <td>3039.308041</td>\n",
       "      <td>3346.777137</td>\n",
       "      <td>2.115362</td>\n",
       "      <td>1.561278</td>\n",
       "      <td>1.957394</td>\n",
       "      <td>2.079506</td>\n",
       "      <td>3.763799</td>\n",
       "      <td>3.604215</td>\n",
       "      <td>...</td>\n",
       "      <td>47.335012</td>\n",
       "      <td>40.198458</td>\n",
       "      <td>12.495526</td>\n",
       "      <td>9.957971</td>\n",
       "      <td>10.806393</td>\n",
       "      <td>11.436859</td>\n",
       "      <td>22.175466</td>\n",
       "      <td>19.869354</td>\n",
       "      <td>21.669024</td>\n",
       "      <td>24.757433</td>\n",
       "    </tr>\n",
       "  </tbody>\n",
       "</table>\n",
       "<p>5 rows × 44 columns</p>\n",
       "</div>"
      ],
      "text/plain": [
       "              Бензак                                        Броня и одежда  \\\n",
       "season             1            2            3            4              1   \n",
       "shop_id                                                                      \n",
       "0        4111.489597  3571.061141  4152.630435  4126.006868       0.602273   \n",
       "1        2131.113087  2255.507609  2862.492391  2761.797222       0.742222   \n",
       "2        2689.147651  2458.390110  2853.618207  2933.961538       4.119128   \n",
       "3        7861.261745  7296.433424  7933.891304  8430.595304       0.796053   \n",
       "4        3633.142207  2992.049306  3039.308041  3346.777137       2.115362   \n",
       "\n",
       "                                      Жидкости для тачки            ...  \\\n",
       "season          2         3         4                  1         2  ...   \n",
       "shop_id                                                             ...   \n",
       "0        0.583333       NaN       NaN           5.000000  3.750000  ...   \n",
       "1        0.852055  1.069474  0.784524           4.200000  3.866667  ...   \n",
       "2        5.982044  7.744565  9.912088           5.087500  4.336957  ...   \n",
       "3        0.746377  0.692029  0.726667           7.689655  9.413551  ...   \n",
       "4        1.561278  1.957394  2.079506           3.763799  3.604215  ...   \n",
       "\n",
       "        Съедобный хлам                  Хлам                                   \\\n",
       "season               3          4          1          2          3          4   \n",
       "shop_id                                                                         \n",
       "0                  NaN        NaN   5.070000   4.434211        NaN        NaN   \n",
       "1             8.352174   5.794320   2.921622   2.518095   2.955752   3.171759   \n",
       "2            51.302989  41.435440  14.137755  10.786313  14.927989  15.497238   \n",
       "3            15.531250  10.116022   6.289370   6.815789   7.690909   7.250000   \n",
       "4            47.335012  40.198458  12.495526   9.957971  10.806393  11.436859   \n",
       "\n",
       "         Ядер-Кола                                   \n",
       "season           1          2          3          4  \n",
       "shop_id                                              \n",
       "0              NaN        NaN        NaN        NaN  \n",
       "1              NaN        NaN        NaN        NaN  \n",
       "2        11.988255  13.489011  17.201087  19.739011  \n",
       "3              NaN        NaN        NaN   1.250000  \n",
       "4        22.175466  19.869354  21.669024  24.757433  \n",
       "\n",
       "[5 rows x 44 columns]"
      ]
     },
     "execution_count": 8,
     "metadata": {},
     "output_type": "execute_result"
    }
   ],
   "source": [
    "mean_sales.head()"
   ]
  },
  {
   "cell_type": "code",
   "execution_count": 9,
   "metadata": {},
   "outputs": [],
   "source": [
    "# Посчитаем долю средних продаж для каждого товара в каждом времени года\n",
    "def calc_shares(x):\n",
    "    sums = x.sum(axis = 'columns')\n",
    "    for col in x:\n",
    "        x[col] = x[col]/sums\n",
    "    return x\n",
    "mean_rates = mean_sales.groupby(level = [1], axis = 1).apply(calc_shares)"
   ]
  },
  {
   "cell_type": "code",
   "execution_count": 10,
   "metadata": {},
   "outputs": [],
   "source": [
    "# Приведем все полученные приведем к отрезу [0; 1]\n",
    "# Иначе кластеризации, основанные на евклидовом расстоянии, будут учитывать только долю продаж бензина,\\\n",
    "# т.к. она в десятки раз выше доли продаж остальных товаров\n",
    "scaler = MinMaxScaler()\n",
    "scaled = pd.DataFrame(scaler.fit_transform(mean_rates), columns = mean_rates.columns)\n",
    "# Заменим пропущенные значения нулями(будем считать, что если нет информации о продажах товара, то его не продавали)\n",
    "scaled = scaled.fillna(0)"
   ]
  },
  {
   "cell_type": "markdown",
   "metadata": {},
   "source": [
    "# Кластеризация"
   ]
  },
  {
   "cell_type": "markdown",
   "metadata": {},
   "source": [
    "В качестве метрики качества кластеризации я буду использовать [коэффициент силуэта](https://en.wikipedia.org/wiki/Silhouette_(clustering)).\n",
    "Коэффициент силуэта для конкретной точки расчитывается как\\\n",
    "$\\frac{B-A}{max(B,A)}$\\\n",
    "Где B - среднее расстояние от точки до точек ближайшего кластера. A - среднее расстояние от точки до точек кластера, которому данная точка принадлежит.\\\n",
    "Значения усредняются.\\\n",
    "Чем выше данная метрика - тем лучше выполнена кластеризация.\\\n",
    "Однако, я не будем полностью полагаться на данную метрику при оценивании качества кластеризации. В первую очередь, я хочу получить адекватное количество кластеров, которые можно адекватно проинтерпретировать и извлечь из этого какую-то ценную для бизнеса информацию.\\\n",
    "Также необходимо понимать, что значения всех метрик качества кластеризации завязано на выбранном признаковом пространстве, поэтому нельзя полностью полагаться на данные метрики"
   ]
  },
  {
   "cell_type": "code",
   "execution_count": 11,
   "metadata": {},
   "outputs": [],
   "source": [
    "def clust_info(scaled, cl):\n",
    "    print('Количество магазинов в каждом кластере')\n",
    "    print(pd.Series(cl.labels_).value_counts())\n",
    "    print('Коэффициент силуэта:', silhouette_score(scaled, cl.labels_))"
   ]
  },
  {
   "cell_type": "markdown",
   "metadata": {},
   "source": [
    "Кластеризация с помощью k-means"
   ]
  },
  {
   "cell_type": "code",
   "execution_count": 12,
   "metadata": {
    "scrolled": true
   },
   "outputs": [
    {
     "name": "stdout",
     "output_type": "stream",
     "text": [
      "Количество кластеров: 4\n",
      "Количество магазинов в каждом кластере\n",
      "2    410\n",
      "0    249\n",
      "1     96\n",
      "3     90\n",
      "dtype: int64\n",
      "Коэффициент силуэта: 0.26473137687896153\n"
     ]
    }
   ],
   "source": [
    "n_clusters = 4\n",
    "print('Количество кластеров:', n_clusters)\n",
    "cl = KMeans(n_clusters = n_clusters, random_state = random_state)\n",
    "cl.fit(scaled)\n",
    "clust_info(scaled, cl)"
   ]
  },
  {
   "cell_type": "markdown",
   "metadata": {},
   "source": [
    "Я выбрал этот алгоритм кластеризации с данными параметрами по совокупности признаков:\n",
    "1. Адекватное количество кластеров (4). Их возможно адекватно проинтепретировать и объяснить их различие бизнесу.\n",
    "2. Адекватное количество магазинов в кластерах (90+). Имеется смысл извлекать такие кластеры, так как они образуют большие, достаточно значимые группы для бизнеса.\n",
    "\n",
    "При остальных методах кластеризации получалось либо низкое значение коэффициента силуэта, при данном или большем количестве кластеров, либо получались кластеры с маленьким количеством магазинов (1-10). Такие маленькие кластеры нет смысла интерпетировать, потому что бизнесу нерационально планировать отдельную стратегию для столь маленьких групп магазинов."
   ]
  },
  {
   "cell_type": "markdown",
   "metadata": {},
   "source": [
    "# Интерпретация полученных кластеров"
   ]
  },
  {
   "cell_type": "code",
   "execution_count": 13,
   "metadata": {},
   "outputs": [],
   "source": [
    "cl = KMeans(n_clusters = 4, random_state = random_state)\n",
    "cl.fit(scaled)\n",
    "mean_rates['cluster'] = cl.labels_\n",
    "mean_rates_clusters = mean_rates.groupby('cluster').mean().reset_index()"
   ]
  },
  {
   "cell_type": "code",
   "execution_count": 14,
   "metadata": {
    "scrolled": false
   },
   "outputs": [
    {
     "data": {
      "image/png": "[encoded data removed]",
      "text/plain": [
       "<Figure size 1080x720 with 12 Axes>"
      ]
     },
     "metadata": {
      "needs_background": "light"
     },
     "output_type": "display_data"
    }
   ],
   "source": [
    "fig, axs = plt.subplots(4, 3, figsize = (15, 10))\n",
    "plt.subplots_adjust(wspace = 0.3, hspace = 0.5)\n",
    "row = 0\n",
    "col = 0\n",
    "for good in goods:\n",
    "    for cluster,color in zip([0, 1, 2 , 3], ['blue', 'orange', 'green', 'red']):\n",
    "        data = mean_rates_clusters[good].iloc[cluster]\n",
    "        sns.lineplot(x = data.index, y = data.values, color = color, ax = axs[row][col])\n",
    "        axs[row][col].set_xlabel('')\n",
    "        axs[row][col].set_ylabel('Доля продаж')\n",
    "        axs[row][col].set_title(good)\n",
    "        axs[row][col].set_xticks(ticks = [1, 2, 3, 4])\n",
    "        axs[row][col].set_xticklabels(labels = ['Зима', 'Весна', 'Лето', 'Осень'])\n",
    "    \n",
    "    if col == 2:\n",
    "        row = row+1\n",
    "        col = 0\n",
    "    else:\n",
    "        col = col+1"
   ]
  },
  {
   "cell_type": "markdown",
   "metadata": {},
   "source": [
    "Синий кластер:\n",
    "1. Самая большая доля продаж бензака.\n",
    "2. Почти полное отсутствие сезонности во всех категориях. Лишь доля продаж жидкостей для тачек падает летом (как и во всех остальных кластерах)"
   ]
  },
  {
   "cell_type": "markdown",
   "metadata": {},
   "source": [
    "Красный кластер:\n",
    "1. Преобладают продажи товаров, не относящихся к категории \"Топливо\" (Бензак, солярка)\n",
    "2. Яркая сезонность долей продаж почти всех товаров. Доля продаж брони, одежды и модификаций для тачки резко проседают летом, в то время как доли продаж съедобного хлама и медпрепаратов с едой сильно растут летом"
   ]
  },
  {
   "cell_type": "markdown",
   "metadata": {},
   "source": [
    "Желтый кластер:\n",
    "\n",
    "1. Самая высокая доля продажи солярки среди всех кластаеров. Летом доля продаж солярки падает.\n",
    "2. Летом растет доля продаж бензака"
   ]
  },
  {
   "cell_type": "markdown",
   "metadata": {},
   "source": [
    "Зеленый кластер:\n",
    "1. Большая доля продаж бензака, но при этом меньше, чем в синем кластере. Из этого следуют большие доли продаж остальных товаров."
   ]
  },
  {
   "cell_type": "markdown",
   "metadata": {},
   "source": [
    "Скорее всего, магазины синего кластера посещают люди на легковых автомобилях (т.к. высока доля продаж бензака), которые не имеют нужды в каких-либо товарах, кроме бензака.\n",
    "\n",
    "Магазины зеленого кластера посещают примерно такие же люди, но при этом они больше интересуются остальными товарами.\n",
    "\n",
    "Магазины желтого кластера посещают водители грузовых автомобилей (высока доля продаж солярки). При этом летом доля таких водителей снижается и эти магазины начинает посещать большее количество людей на легковых автомобилях.\n",
    "\n",
    "Магазины красного кластера посещают люди на легковых автомобилях, сильно заинтересованные в нетопливных товарах. Возможно, это происходит из-за того, что через эти магазины проезжают люди, которым нужны эти товары, но при этом они либо не имеют возможности заехать в другие магазины, либо решают сэкономить время, купив топливо и другие товары в одном магазине."
   ]
  }
 ],
 "metadata": {
  "kernelspec": {
   "display_name": "Python 3",
   "language": "python",
   "name": "python3"
  },
  "language_info": {
   "codemirror_mode": {
    "name": "ipython",
    "version": 3
   },
   "file_extension": ".py",
   "mimetype": "text/x-python",
   "name": "python",
   "nbconvert_exporter": "python",
   "pygments_lexer": "ipython3",
   "version": "3.8.3"
  },
  "latex_envs": {
   "LaTeX_envs_menu_present": true,
   "autoclose": false,
   "autocomplete": true,
   "bibliofile": "biblio.bib",
   "cite_by": "apalike",
   "current_citInitial": 1,
   "eqLabelWithNumbers": true,
   "eqNumInitial": 1,
   "hotkeys": {
    "equation": "Ctrl-E",
    "itemize": "Ctrl-I"
   },
   "labels_anchors": false,
   "latex_user_defs": false,
   "report_style_numbering": false,
   "user_envs_cfg": false
  }
 },
 "nbformat": 4,
 "nbformat_minor": 4
}
